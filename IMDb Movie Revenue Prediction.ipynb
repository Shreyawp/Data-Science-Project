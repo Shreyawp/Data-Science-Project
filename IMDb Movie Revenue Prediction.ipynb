{
 "cells": [
  {
   "cell_type": "markdown",
   "id": "aa67a63d",
   "metadata": {},
   "source": [
    "### Movie Revenue Prediction\n",
    "\n",
    "**Aim:** Predict the worldwide gross revenue of movies based on features like budget, runtime, genre, and release year.\n",
    "\n",
    "**Objective:**\n",
    "1. Pre-processing the data\n",
    "2. Exploratory Data Analysis with SQL \n",
    "3. Exploratory Data Analysis with Data Visualization\n",
    "4. Predictive Model using **Linear Regression**\n",
    "5. Model Acurracy Evaluation\n",
    "\n",
    "**Resource** : [Kaggle Dataset - IMDb Movies Data Collection](https://www.kaggle.com/datasets/hetbabariya/imdb-movies-data-collection-5000-records)\n",
    "\n",
    "**Skill:** sqlalchemy, matplotlib, seaborn, sklearn, pandas, numpy "
   ]
  },
  {
   "cell_type": "markdown",
   "id": "3d4617ab",
   "metadata": {},
   "source": [
    "#### Installing packages"
   ]
  },
  {
   "cell_type": "code",
   "execution_count": 29,
   "id": "0a5b12f5",
   "metadata": {},
   "outputs": [
    {
     "name": "stdout",
     "output_type": "stream",
     "text": [
      "Requirement already satisfied: sqlalchemy in c:\\users\\admin\\anaconda3\\lib\\site-packages (2.0.36)\n",
      "Requirement already satisfied: typing-extensions>=4.6.0 in c:\\users\\admin\\anaconda3\\lib\\site-packages (from sqlalchemy) (4.7.1)\n",
      "Requirement already satisfied: greenlet!=0.4.17 in c:\\users\\admin\\anaconda3\\lib\\site-packages (from sqlalchemy) (2.0.1)\n",
      "Requirement already satisfied: ipython-sql in c:\\users\\admin\\anaconda3\\lib\\site-packages (0.5.0)\n",
      "Requirement already satisfied: prettytable in c:\\users\\admin\\anaconda3\\lib\\site-packages (from ipython-sql) (3.12.0)\n",
      "Requirement already satisfied: ipython in c:\\users\\admin\\anaconda3\\lib\\site-packages (from ipython-sql) (8.15.0)\n",
      "Requirement already satisfied: sqlalchemy>=2.0 in c:\\users\\admin\\anaconda3\\lib\\site-packages (from ipython-sql) (2.0.36)\n",
      "Requirement already satisfied: sqlparse in c:\\users\\admin\\anaconda3\\lib\\site-packages (from ipython-sql) (0.5.3)\n",
      "Requirement already satisfied: six in c:\\users\\admin\\anaconda3\\lib\\site-packages (from ipython-sql) (1.16.0)\n",
      "Requirement already satisfied: ipython-genutils in c:\\users\\admin\\anaconda3\\lib\\site-packages (from ipython-sql) (0.2.0)\n",
      "Requirement already satisfied: typing-extensions>=4.6.0 in c:\\users\\admin\\anaconda3\\lib\\site-packages (from sqlalchemy>=2.0->ipython-sql) (4.7.1)\n",
      "Requirement already satisfied: greenlet!=0.4.17 in c:\\users\\admin\\anaconda3\\lib\\site-packages (from sqlalchemy>=2.0->ipython-sql) (2.0.1)\n",
      "Requirement already satisfied: backcall in c:\\users\\admin\\anaconda3\\lib\\site-packages (from ipython->ipython-sql) (0.2.0)\n",
      "Requirement already satisfied: decorator in c:\\users\\admin\\anaconda3\\lib\\site-packages (from ipython->ipython-sql) (5.1.1)\n",
      "Requirement already satisfied: jedi>=0.16 in c:\\users\\admin\\anaconda3\\lib\\site-packages (from ipython->ipython-sql) (0.18.1)\n",
      "Requirement already satisfied: matplotlib-inline in c:\\users\\admin\\anaconda3\\lib\\site-packages (from ipython->ipython-sql) (0.1.6)\n",
      "Requirement already satisfied: pickleshare in c:\\users\\admin\\anaconda3\\lib\\site-packages (from ipython->ipython-sql) (0.7.5)\n",
      "Requirement already satisfied: prompt-toolkit!=3.0.37,<3.1.0,>=3.0.30 in c:\\users\\admin\\anaconda3\\lib\\site-packages (from ipython->ipython-sql) (3.0.36)\n",
      "Requirement already satisfied: pygments>=2.4.0 in c:\\users\\admin\\anaconda3\\lib\\site-packages (from ipython->ipython-sql) (2.15.1)\n",
      "Requirement already satisfied: stack-data in c:\\users\\admin\\anaconda3\\lib\\site-packages (from ipython->ipython-sql) (0.2.0)\n",
      "Requirement already satisfied: traitlets>=5 in c:\\users\\admin\\anaconda3\\lib\\site-packages (from ipython->ipython-sql) (5.7.1)\n",
      "Requirement already satisfied: colorama in c:\\users\\admin\\anaconda3\\lib\\site-packages (from ipython->ipython-sql) (0.4.6)\n",
      "Requirement already satisfied: wcwidth in c:\\users\\admin\\anaconda3\\lib\\site-packages (from prettytable->ipython-sql) (0.2.5)\n",
      "Requirement already satisfied: parso<0.9.0,>=0.8.0 in c:\\users\\admin\\anaconda3\\lib\\site-packages (from jedi>=0.16->ipython->ipython-sql) (0.8.3)\n",
      "Requirement already satisfied: executing in c:\\users\\admin\\anaconda3\\lib\\site-packages (from stack-data->ipython->ipython-sql) (0.8.3)\n",
      "Requirement already satisfied: asttokens in c:\\users\\admin\\anaconda3\\lib\\site-packages (from stack-data->ipython->ipython-sql) (2.0.5)\n",
      "Requirement already satisfied: pure-eval in c:\\users\\admin\\anaconda3\\lib\\site-packages (from stack-data->ipython->ipython-sql) (0.2.2)\n",
      "Requirement already satisfied: ipython-sql in c:\\users\\admin\\anaconda3\\lib\\site-packages (0.5.0)\n",
      "Requirement already satisfied: prettytable in c:\\users\\admin\\anaconda3\\lib\\site-packages (3.12.0)\n",
      "Requirement already satisfied: ipython in c:\\users\\admin\\anaconda3\\lib\\site-packages (from ipython-sql) (8.15.0)\n",
      "Requirement already satisfied: sqlalchemy>=2.0 in c:\\users\\admin\\anaconda3\\lib\\site-packages (from ipython-sql) (2.0.36)\n",
      "Requirement already satisfied: sqlparse in c:\\users\\admin\\anaconda3\\lib\\site-packages (from ipython-sql) (0.5.3)\n",
      "Requirement already satisfied: six in c:\\users\\admin\\anaconda3\\lib\\site-packages (from ipython-sql) (1.16.0)\n",
      "Requirement already satisfied: ipython-genutils in c:\\users\\admin\\anaconda3\\lib\\site-packages (from ipython-sql) (0.2.0)\n",
      "Requirement already satisfied: wcwidth in c:\\users\\admin\\anaconda3\\lib\\site-packages (from prettytable) (0.2.5)\n",
      "Requirement already satisfied: typing-extensions>=4.6.0 in c:\\users\\admin\\anaconda3\\lib\\site-packages (from sqlalchemy>=2.0->ipython-sql) (4.7.1)\n",
      "Requirement already satisfied: greenlet!=0.4.17 in c:\\users\\admin\\anaconda3\\lib\\site-packages (from sqlalchemy>=2.0->ipython-sql) (2.0.1)\n",
      "Requirement already satisfied: backcall in c:\\users\\admin\\anaconda3\\lib\\site-packages (from ipython->ipython-sql) (0.2.0)\n",
      "Requirement already satisfied: decorator in c:\\users\\admin\\anaconda3\\lib\\site-packages (from ipython->ipython-sql) (5.1.1)\n",
      "Requirement already satisfied: jedi>=0.16 in c:\\users\\admin\\anaconda3\\lib\\site-packages (from ipython->ipython-sql) (0.18.1)\n",
      "Requirement already satisfied: matplotlib-inline in c:\\users\\admin\\anaconda3\\lib\\site-packages (from ipython->ipython-sql) (0.1.6)\n",
      "Requirement already satisfied: pickleshare in c:\\users\\admin\\anaconda3\\lib\\site-packages (from ipython->ipython-sql) (0.7.5)\n",
      "Requirement already satisfied: prompt-toolkit!=3.0.37,<3.1.0,>=3.0.30 in c:\\users\\admin\\anaconda3\\lib\\site-packages (from ipython->ipython-sql) (3.0.36)\n",
      "Requirement already satisfied: pygments>=2.4.0 in c:\\users\\admin\\anaconda3\\lib\\site-packages (from ipython->ipython-sql) (2.15.1)\n",
      "Requirement already satisfied: stack-data in c:\\users\\admin\\anaconda3\\lib\\site-packages (from ipython->ipython-sql) (0.2.0)\n",
      "Requirement already satisfied: traitlets>=5 in c:\\users\\admin\\anaconda3\\lib\\site-packages (from ipython->ipython-sql) (5.7.1)\n",
      "Requirement already satisfied: colorama in c:\\users\\admin\\anaconda3\\lib\\site-packages (from ipython->ipython-sql) (0.4.6)\n",
      "Requirement already satisfied: parso<0.9.0,>=0.8.0 in c:\\users\\admin\\anaconda3\\lib\\site-packages (from jedi>=0.16->ipython->ipython-sql) (0.8.3)\n",
      "Requirement already satisfied: executing in c:\\users\\admin\\anaconda3\\lib\\site-packages (from stack-data->ipython->ipython-sql) (0.8.3)\n",
      "Requirement already satisfied: asttokens in c:\\users\\admin\\anaconda3\\lib\\site-packages (from stack-data->ipython->ipython-sql) (2.0.5)\n",
      "Requirement already satisfied: pure-eval in c:\\users\\admin\\anaconda3\\lib\\site-packages (from stack-data->ipython->ipython-sql) (0.2.2)\n"
     ]
    }
   ],
   "source": [
    "!pip install sqlalchemy\n",
    "!pip install -q pandas\n",
    "!pip install ipython-sql\n",
    "!pip install ipython-sql prettytable"
   ]
  },
  {
   "cell_type": "markdown",
   "id": "edb62741",
   "metadata": {},
   "source": [
    "#### Importing Libraries"
   ]
  },
  {
   "cell_type": "code",
   "execution_count": 30,
   "id": "73279d00",
   "metadata": {},
   "outputs": [],
   "source": [
    "import pandas as pd\n",
    "import numpy as np\n",
    "import matplotlib.pyplot as plt\n",
    "import seaborn as sns\n"
   ]
  },
  {
   "cell_type": "markdown",
   "id": "3994e403",
   "metadata": {},
   "source": [
    "#### Create dataframe from csv file"
   ]
  },
  {
   "cell_type": "code",
   "execution_count": 31,
   "id": "b9777d1c",
   "metadata": {},
   "outputs": [],
   "source": [
    "file_path=r\"C:\\Users\\Admin\\OneDrive\\Desktop\\Data Science\\personal projects\\datasets\\IMDB_Movies_Dataset.csv\""
   ]
  },
  {
   "cell_type": "code",
   "execution_count": 32,
   "id": "328a701b",
   "metadata": {},
   "outputs": [
    {
     "data": {
      "text/html": [
       "<div>\n",
       "<style scoped>\n",
       "    .dataframe tbody tr th:only-of-type {\n",
       "        vertical-align: middle;\n",
       "    }\n",
       "\n",
       "    .dataframe tbody tr th {\n",
       "        vertical-align: top;\n",
       "    }\n",
       "\n",
       "    .dataframe thead th {\n",
       "        text-align: right;\n",
       "    }\n",
       "</style>\n",
       "<table border=\"1\" class=\"dataframe\">\n",
       "  <thead>\n",
       "    <tr style=\"text-align: right;\">\n",
       "      <th></th>\n",
       "      <th>Unnamed: 0</th>\n",
       "      <th>Title</th>\n",
       "      <th>Average Rating</th>\n",
       "      <th>Director</th>\n",
       "      <th>Writer</th>\n",
       "      <th>Metascore</th>\n",
       "      <th>Cast</th>\n",
       "      <th>Release Date</th>\n",
       "      <th>Country of Origin</th>\n",
       "      <th>Languages</th>\n",
       "      <th>Budget</th>\n",
       "      <th>Worldwide Gross</th>\n",
       "      <th>Runtime</th>\n",
       "    </tr>\n",
       "  </thead>\n",
       "  <tbody>\n",
       "    <tr>\n",
       "      <th>0</th>\n",
       "      <td>0</td>\n",
       "      <td>The Shawshank Redemption</td>\n",
       "      <td>9.3</td>\n",
       "      <td>Frank Darabont</td>\n",
       "      <td>Stephen King, Frank Darabont</td>\n",
       "      <td>82.0</td>\n",
       "      <td>Tim Robbins, Morgan Freeman, Bob Gunton, Willi...</td>\n",
       "      <td>October 14, 1994 (India)</td>\n",
       "      <td>United States</td>\n",
       "      <td>English</td>\n",
       "      <td>$25,000,000 (estimated)</td>\n",
       "      <td>$29,332,133</td>\n",
       "      <td>2 hours 22 minutes</td>\n",
       "    </tr>\n",
       "    <tr>\n",
       "      <th>1</th>\n",
       "      <td>1</td>\n",
       "      <td>Attack on Titan the Movie: The Last Attack</td>\n",
       "      <td>9.3</td>\n",
       "      <td>Yûichirô Hayashi</td>\n",
       "      <td>Natsuki Hanae, Yoshimasa Hosoya, Marina Inoue</td>\n",
       "      <td>NaN</td>\n",
       "      <td>Natsuki Hanae, Yoshimasa Hosoya, Marina Inoue,...</td>\n",
       "      <td>November 8, 2024 (Japan)</td>\n",
       "      <td>Japan</td>\n",
       "      <td>Japanese</td>\n",
       "      <td>NaN</td>\n",
       "      <td>$3,513,659</td>\n",
       "      <td>2 hours 25 minutes</td>\n",
       "    </tr>\n",
       "    <tr>\n",
       "      <th>2</th>\n",
       "      <td>2</td>\n",
       "      <td>The Godfather</td>\n",
       "      <td>9.2</td>\n",
       "      <td>Francis Ford Coppola</td>\n",
       "      <td>Mario Puzo, Francis Ford Coppola</td>\n",
       "      <td>100.0</td>\n",
       "      <td>Marlon Brando, Al Pacino, James Caan, Diane Ke...</td>\n",
       "      <td>1978 (India)</td>\n",
       "      <td>United States</td>\n",
       "      <td>English, Italian, Latin</td>\n",
       "      <td>$6,000,000 (estimated)</td>\n",
       "      <td>$250,342,198</td>\n",
       "      <td>2 hours 55 minutes</td>\n",
       "    </tr>\n",
       "    <tr>\n",
       "      <th>3</th>\n",
       "      <td>3</td>\n",
       "      <td>Hababam Sinifi</td>\n",
       "      <td>9.2</td>\n",
       "      <td>Ertem Egilmez</td>\n",
       "      <td>Umur Bugay, Rifat Ilgaz</td>\n",
       "      <td>NaN</td>\n",
       "      <td>Münir Özkul, Tarik Akan, Halit Akçatepe, Kemal...</td>\n",
       "      <td>April 1, 1975 (Turkey)</td>\n",
       "      <td>Turkey</td>\n",
       "      <td>Turkish</td>\n",
       "      <td>NaN</td>\n",
       "      <td>NaN</td>\n",
       "      <td>1 hour 25 minutes</td>\n",
       "    </tr>\n",
       "    <tr>\n",
       "      <th>4</th>\n",
       "      <td>4</td>\n",
       "      <td>Ramayana: The Legend of Prince Rama</td>\n",
       "      <td>9.2</td>\n",
       "      <td>Ram Mohan, Yûgô Sakô, Koichi Saski</td>\n",
       "      <td>Rani Burra, Ram Mohan, Yûgô Sakô</td>\n",
       "      <td>NaN</td>\n",
       "      <td>Arun Govil, Nikhil Kapoor, Edie Mirman, Rael P...</td>\n",
       "      <td>September 25, 2001 (India)</td>\n",
       "      <td>India, Japan</td>\n",
       "      <td>English</td>\n",
       "      <td>NaN</td>\n",
       "      <td>NaN</td>\n",
       "      <td>2 hours 15 minutes</td>\n",
       "    </tr>\n",
       "  </tbody>\n",
       "</table>\n",
       "</div>"
      ],
      "text/plain": [
       "   Unnamed: 0                                       Title  Average Rating  \\\n",
       "0           0                    The Shawshank Redemption             9.3   \n",
       "1           1  Attack on Titan the Movie: The Last Attack             9.3   \n",
       "2           2                               The Godfather             9.2   \n",
       "3           3                              Hababam Sinifi             9.2   \n",
       "4           4         Ramayana: The Legend of Prince Rama             9.2   \n",
       "\n",
       "                             Director  \\\n",
       "0                      Frank Darabont   \n",
       "1                    Yûichirô Hayashi   \n",
       "2                Francis Ford Coppola   \n",
       "3                       Ertem Egilmez   \n",
       "4  Ram Mohan, Yûgô Sakô, Koichi Saski   \n",
       "\n",
       "                                          Writer  Metascore  \\\n",
       "0                   Stephen King, Frank Darabont       82.0   \n",
       "1  Natsuki Hanae, Yoshimasa Hosoya, Marina Inoue        NaN   \n",
       "2               Mario Puzo, Francis Ford Coppola      100.0   \n",
       "3                        Umur Bugay, Rifat Ilgaz        NaN   \n",
       "4               Rani Burra, Ram Mohan, Yûgô Sakô        NaN   \n",
       "\n",
       "                                                Cast  \\\n",
       "0  Tim Robbins, Morgan Freeman, Bob Gunton, Willi...   \n",
       "1  Natsuki Hanae, Yoshimasa Hosoya, Marina Inoue,...   \n",
       "2  Marlon Brando, Al Pacino, James Caan, Diane Ke...   \n",
       "3  Münir Özkul, Tarik Akan, Halit Akçatepe, Kemal...   \n",
       "4  Arun Govil, Nikhil Kapoor, Edie Mirman, Rael P...   \n",
       "\n",
       "                 Release Date Country of Origin                Languages  \\\n",
       "0    October 14, 1994 (India)     United States                  English   \n",
       "1    November 8, 2024 (Japan)             Japan                 Japanese   \n",
       "2                1978 (India)     United States  English, Italian, Latin   \n",
       "3      April 1, 1975 (Turkey)            Turkey                  Turkish   \n",
       "4  September 25, 2001 (India)      India, Japan                  English   \n",
       "\n",
       "                    Budget Worldwide Gross             Runtime  \n",
       "0  $25,000,000 (estimated)     $29,332,133  2 hours 22 minutes  \n",
       "1                      NaN      $3,513,659  2 hours 25 minutes  \n",
       "2   $6,000,000 (estimated)    $250,342,198  2 hours 55 minutes  \n",
       "3                      NaN             NaN   1 hour 25 minutes  \n",
       "4                      NaN             NaN  2 hours 15 minutes  "
      ]
     },
     "execution_count": 32,
     "metadata": {},
     "output_type": "execute_result"
    }
   ],
   "source": [
    "movie_data = pd.read_csv(file_path)\n",
    "movie_data.head()"
   ]
  },
  {
   "cell_type": "code",
   "execution_count": 33,
   "id": "c0dcded9",
   "metadata": {},
   "outputs": [
    {
     "data": {
      "text/html": [
       "<div>\n",
       "<style scoped>\n",
       "    .dataframe tbody tr th:only-of-type {\n",
       "        vertical-align: middle;\n",
       "    }\n",
       "\n",
       "    .dataframe tbody tr th {\n",
       "        vertical-align: top;\n",
       "    }\n",
       "\n",
       "    .dataframe thead th {\n",
       "        text-align: right;\n",
       "    }\n",
       "</style>\n",
       "<table border=\"1\" class=\"dataframe\">\n",
       "  <thead>\n",
       "    <tr style=\"text-align: right;\">\n",
       "      <th></th>\n",
       "      <th>Unnamed: 0</th>\n",
       "      <th>Average Rating</th>\n",
       "      <th>Metascore</th>\n",
       "    </tr>\n",
       "  </thead>\n",
       "  <tbody>\n",
       "    <tr>\n",
       "      <th>count</th>\n",
       "      <td>4989.000000</td>\n",
       "      <td>4989.000000</td>\n",
       "      <td>3055.000000</td>\n",
       "    </tr>\n",
       "    <tr>\n",
       "      <th>mean</th>\n",
       "      <td>248.951493</td>\n",
       "      <td>7.632892</td>\n",
       "      <td>74.684452</td>\n",
       "    </tr>\n",
       "    <tr>\n",
       "      <th>std</th>\n",
       "      <td>144.036753</td>\n",
       "      <td>0.365243</td>\n",
       "      <td>12.298911</td>\n",
       "    </tr>\n",
       "    <tr>\n",
       "      <th>min</th>\n",
       "      <td>0.000000</td>\n",
       "      <td>7.200000</td>\n",
       "      <td>25.000000</td>\n",
       "    </tr>\n",
       "    <tr>\n",
       "      <th>25%</th>\n",
       "      <td>124.000000</td>\n",
       "      <td>7.300000</td>\n",
       "      <td>67.000000</td>\n",
       "    </tr>\n",
       "    <tr>\n",
       "      <th>50%</th>\n",
       "      <td>249.000000</td>\n",
       "      <td>7.600000</td>\n",
       "      <td>76.000000</td>\n",
       "    </tr>\n",
       "    <tr>\n",
       "      <th>75%</th>\n",
       "      <td>374.000000</td>\n",
       "      <td>7.800000</td>\n",
       "      <td>84.000000</td>\n",
       "    </tr>\n",
       "    <tr>\n",
       "      <th>max</th>\n",
       "      <td>499.000000</td>\n",
       "      <td>9.300000</td>\n",
       "      <td>100.000000</td>\n",
       "    </tr>\n",
       "  </tbody>\n",
       "</table>\n",
       "</div>"
      ],
      "text/plain": [
       "        Unnamed: 0  Average Rating    Metascore\n",
       "count  4989.000000     4989.000000  3055.000000\n",
       "mean    248.951493        7.632892    74.684452\n",
       "std     144.036753        0.365243    12.298911\n",
       "min       0.000000        7.200000    25.000000\n",
       "25%     124.000000        7.300000    67.000000\n",
       "50%     249.000000        7.600000    76.000000\n",
       "75%     374.000000        7.800000    84.000000\n",
       "max     499.000000        9.300000   100.000000"
      ]
     },
     "execution_count": 33,
     "metadata": {},
     "output_type": "execute_result"
    }
   ],
   "source": [
    "movie_data.describe()"
   ]
  },
  {
   "cell_type": "code",
   "execution_count": 34,
   "id": "0e8aa955",
   "metadata": {},
   "outputs": [
    {
     "name": "stdout",
     "output_type": "stream",
     "text": [
      "<class 'pandas.core.frame.DataFrame'>\n",
      "RangeIndex: 4989 entries, 0 to 4988\n",
      "Data columns (total 13 columns):\n",
      " #   Column             Non-Null Count  Dtype  \n",
      "---  ------             --------------  -----  \n",
      " 0   Unnamed: 0         4989 non-null   int64  \n",
      " 1   Title              4989 non-null   object \n",
      " 2   Average Rating     4989 non-null   float64\n",
      " 3   Director           4989 non-null   object \n",
      " 4   Writer             4988 non-null   object \n",
      " 5   Metascore          3055 non-null   float64\n",
      " 6   Cast               4982 non-null   object \n",
      " 7   Release Date       4989 non-null   object \n",
      " 8   Country of Origin  4986 non-null   object \n",
      " 9   Languages          4968 non-null   object \n",
      " 10  Budget             2651 non-null   object \n",
      " 11  Worldwide Gross    3895 non-null   object \n",
      " 12  Runtime            4989 non-null   object \n",
      "dtypes: float64(2), int64(1), object(10)\n",
      "memory usage: 506.8+ KB\n"
     ]
    }
   ],
   "source": [
    "movie_data.info()"
   ]
  },
  {
   "cell_type": "code",
   "execution_count": 35,
   "id": "12fa8e0f",
   "metadata": {},
   "outputs": [
    {
     "data": {
      "text/plain": [
       "(4989, 13)"
      ]
     },
     "execution_count": 35,
     "metadata": {},
     "output_type": "execute_result"
    }
   ],
   "source": [
    "movie_data.shape"
   ]
  },
  {
   "cell_type": "markdown",
   "id": "7d88d440",
   "metadata": {},
   "source": [
    "#### Data Pre-processing\n",
    "\"Budget\" and \"Worldwide Gross\" have string pattern like \"$6,000,000 (estimated)\"\n",
    "- Cleaning the columns to remove string pattern and coverting to float\n",
    "\n",
    "\"Release Date\" is also a string \"October 14, 1994 (India)\"\n",
    "- Coverting the column to float and reduce to \"Release Year\""
   ]
  },
  {
   "cell_type": "code",
   "execution_count": 36,
   "id": "c3d80e4e",
   "metadata": {},
   "outputs": [],
   "source": [
    "import re\n",
    "\n",
    "def clean_and_convert(value):\n",
    "    if isinstance(value, str):\n",
    "        # Remove unwanted characters like $, commas, and extra text\n",
    "        value = re.sub(r'[\\$,]', '', value)  # Remove $ and ,\n",
    "        value = re.sub(r'\\(.*?\\)', '', value)  # Remove text within parentheses\n",
    "    try:\n",
    "        return float(value)  # Convert to float\n",
    "    except (ValueError, TypeError):\n",
    "        return None  # Return None for invalid entries"
   ]
  },
  {
   "cell_type": "code",
   "execution_count": 37,
   "id": "a427cd07",
   "metadata": {},
   "outputs": [
    {
     "data": {
      "text/html": [
       "<div>\n",
       "<style scoped>\n",
       "    .dataframe tbody tr th:only-of-type {\n",
       "        vertical-align: middle;\n",
       "    }\n",
       "\n",
       "    .dataframe tbody tr th {\n",
       "        vertical-align: top;\n",
       "    }\n",
       "\n",
       "    .dataframe thead th {\n",
       "        text-align: right;\n",
       "    }\n",
       "</style>\n",
       "<table border=\"1\" class=\"dataframe\">\n",
       "  <thead>\n",
       "    <tr style=\"text-align: right;\">\n",
       "      <th></th>\n",
       "      <th>Title</th>\n",
       "      <th>Average Rating</th>\n",
       "      <th>Director</th>\n",
       "      <th>Writer</th>\n",
       "      <th>Metascore</th>\n",
       "      <th>Cast</th>\n",
       "      <th>Release Date</th>\n",
       "      <th>Country of Origin</th>\n",
       "      <th>Languages</th>\n",
       "      <th>Budget</th>\n",
       "      <th>Worldwide Gross</th>\n",
       "      <th>Runtime</th>\n",
       "      <th>Release Year</th>\n",
       "    </tr>\n",
       "  </thead>\n",
       "  <tbody>\n",
       "    <tr>\n",
       "      <th>0</th>\n",
       "      <td>The Shawshank Redemption</td>\n",
       "      <td>9.3</td>\n",
       "      <td>Frank Darabont</td>\n",
       "      <td>Stephen King, Frank Darabont</td>\n",
       "      <td>82.0</td>\n",
       "      <td>Tim Robbins, Morgan Freeman, Bob Gunton, Willi...</td>\n",
       "      <td>October 14, 1994 (India)</td>\n",
       "      <td>United States</td>\n",
       "      <td>English</td>\n",
       "      <td>25000000.0</td>\n",
       "      <td>29332133.0</td>\n",
       "      <td>2 hours 22 minutes</td>\n",
       "      <td>1994</td>\n",
       "    </tr>\n",
       "    <tr>\n",
       "      <th>1</th>\n",
       "      <td>Attack on Titan the Movie: The Last Attack</td>\n",
       "      <td>9.3</td>\n",
       "      <td>Yûichirô Hayashi</td>\n",
       "      <td>Natsuki Hanae, Yoshimasa Hosoya, Marina Inoue</td>\n",
       "      <td>NaN</td>\n",
       "      <td>Natsuki Hanae, Yoshimasa Hosoya, Marina Inoue,...</td>\n",
       "      <td>November 8, 2024 (Japan)</td>\n",
       "      <td>Japan</td>\n",
       "      <td>Japanese</td>\n",
       "      <td>NaN</td>\n",
       "      <td>3513659.0</td>\n",
       "      <td>2 hours 25 minutes</td>\n",
       "      <td>2024</td>\n",
       "    </tr>\n",
       "    <tr>\n",
       "      <th>2</th>\n",
       "      <td>The Godfather</td>\n",
       "      <td>9.2</td>\n",
       "      <td>Francis Ford Coppola</td>\n",
       "      <td>Mario Puzo, Francis Ford Coppola</td>\n",
       "      <td>100.0</td>\n",
       "      <td>Marlon Brando, Al Pacino, James Caan, Diane Ke...</td>\n",
       "      <td>1978 (India)</td>\n",
       "      <td>United States</td>\n",
       "      <td>English, Italian, Latin</td>\n",
       "      <td>6000000.0</td>\n",
       "      <td>250342198.0</td>\n",
       "      <td>2 hours 55 minutes</td>\n",
       "      <td>1978</td>\n",
       "    </tr>\n",
       "    <tr>\n",
       "      <th>3</th>\n",
       "      <td>Hababam Sinifi</td>\n",
       "      <td>9.2</td>\n",
       "      <td>Ertem Egilmez</td>\n",
       "      <td>Umur Bugay, Rifat Ilgaz</td>\n",
       "      <td>NaN</td>\n",
       "      <td>Münir Özkul, Tarik Akan, Halit Akçatepe, Kemal...</td>\n",
       "      <td>April 1, 1975 (Turkey)</td>\n",
       "      <td>Turkey</td>\n",
       "      <td>Turkish</td>\n",
       "      <td>NaN</td>\n",
       "      <td>NaN</td>\n",
       "      <td>1 hour 25 minutes</td>\n",
       "      <td>1975</td>\n",
       "    </tr>\n",
       "    <tr>\n",
       "      <th>4</th>\n",
       "      <td>Ramayana: The Legend of Prince Rama</td>\n",
       "      <td>9.2</td>\n",
       "      <td>Ram Mohan, Yûgô Sakô, Koichi Saski</td>\n",
       "      <td>Rani Burra, Ram Mohan, Yûgô Sakô</td>\n",
       "      <td>NaN</td>\n",
       "      <td>Arun Govil, Nikhil Kapoor, Edie Mirman, Rael P...</td>\n",
       "      <td>September 25, 2001 (India)</td>\n",
       "      <td>India, Japan</td>\n",
       "      <td>English</td>\n",
       "      <td>NaN</td>\n",
       "      <td>NaN</td>\n",
       "      <td>2 hours 15 minutes</td>\n",
       "      <td>2001</td>\n",
       "    </tr>\n",
       "  </tbody>\n",
       "</table>\n",
       "</div>"
      ],
      "text/plain": [
       "                                        Title  Average Rating  \\\n",
       "0                    The Shawshank Redemption             9.3   \n",
       "1  Attack on Titan the Movie: The Last Attack             9.3   \n",
       "2                               The Godfather             9.2   \n",
       "3                              Hababam Sinifi             9.2   \n",
       "4         Ramayana: The Legend of Prince Rama             9.2   \n",
       "\n",
       "                             Director  \\\n",
       "0                      Frank Darabont   \n",
       "1                    Yûichirô Hayashi   \n",
       "2                Francis Ford Coppola   \n",
       "3                       Ertem Egilmez   \n",
       "4  Ram Mohan, Yûgô Sakô, Koichi Saski   \n",
       "\n",
       "                                          Writer  Metascore  \\\n",
       "0                   Stephen King, Frank Darabont       82.0   \n",
       "1  Natsuki Hanae, Yoshimasa Hosoya, Marina Inoue        NaN   \n",
       "2               Mario Puzo, Francis Ford Coppola      100.0   \n",
       "3                        Umur Bugay, Rifat Ilgaz        NaN   \n",
       "4               Rani Burra, Ram Mohan, Yûgô Sakô        NaN   \n",
       "\n",
       "                                                Cast  \\\n",
       "0  Tim Robbins, Morgan Freeman, Bob Gunton, Willi...   \n",
       "1  Natsuki Hanae, Yoshimasa Hosoya, Marina Inoue,...   \n",
       "2  Marlon Brando, Al Pacino, James Caan, Diane Ke...   \n",
       "3  Münir Özkul, Tarik Akan, Halit Akçatepe, Kemal...   \n",
       "4  Arun Govil, Nikhil Kapoor, Edie Mirman, Rael P...   \n",
       "\n",
       "                 Release Date Country of Origin                Languages  \\\n",
       "0    October 14, 1994 (India)     United States                  English   \n",
       "1    November 8, 2024 (Japan)             Japan                 Japanese   \n",
       "2                1978 (India)     United States  English, Italian, Latin   \n",
       "3      April 1, 1975 (Turkey)            Turkey                  Turkish   \n",
       "4  September 25, 2001 (India)      India, Japan                  English   \n",
       "\n",
       "       Budget  Worldwide Gross             Runtime  Release Year  \n",
       "0  25000000.0       29332133.0  2 hours 22 minutes          1994  \n",
       "1         NaN        3513659.0  2 hours 25 minutes          2024  \n",
       "2   6000000.0      250342198.0  2 hours 55 minutes          1978  \n",
       "3         NaN              NaN   1 hour 25 minutes          1975  \n",
       "4         NaN              NaN  2 hours 15 minutes          2001  "
      ]
     },
     "execution_count": 37,
     "metadata": {},
     "output_type": "execute_result"
    }
   ],
   "source": [
    "movie_data['Budget'] = movie_data['Budget'].apply(clean_and_convert)\n",
    "movie_data['Worldwide Gross'] = movie_data['Worldwide Gross'].apply(clean_and_convert)\n",
    "\n",
    "# Extract year from Release Date\n",
    "movie_data['Release Year'] = movie_data['Release Date'].str.extract(r'(\\d{4})')[0].astype(int)\n",
    "\n",
    "# Drop an index column\n",
    "movie_data.drop(\"Unnamed: 0\",axis=1, inplace=True)\n",
    "movie_data.head()"
   ]
  },
  {
   "cell_type": "code",
   "execution_count": 38,
   "id": "6331aa71",
   "metadata": {},
   "outputs": [
    {
     "name": "stdout",
     "output_type": "stream",
     "text": [
      "<class 'pandas.core.frame.DataFrame'>\n",
      "RangeIndex: 4989 entries, 0 to 4988\n",
      "Data columns (total 13 columns):\n",
      " #   Column             Non-Null Count  Dtype  \n",
      "---  ------             --------------  -----  \n",
      " 0   Title              4989 non-null   object \n",
      " 1   Average Rating     4989 non-null   float64\n",
      " 2   Director           4989 non-null   object \n",
      " 3   Writer             4988 non-null   object \n",
      " 4   Metascore          3055 non-null   float64\n",
      " 5   Cast               4982 non-null   object \n",
      " 6   Release Date       4989 non-null   object \n",
      " 7   Country of Origin  4986 non-null   object \n",
      " 8   Languages          4968 non-null   object \n",
      " 9   Budget             2066 non-null   float64\n",
      " 10  Worldwide Gross    3879 non-null   float64\n",
      " 11  Runtime            4989 non-null   object \n",
      " 12  Release Year       4989 non-null   int32  \n",
      "dtypes: float64(4), int32(1), object(8)\n",
      "memory usage: 487.3+ KB\n"
     ]
    }
   ],
   "source": [
    "movie_data.info()"
   ]
  },
  {
   "cell_type": "markdown",
   "id": "c1b15c0a",
   "metadata": {},
   "source": [
    "#### Filling the Missing Values"
   ]
  },
  {
   "cell_type": "code",
   "execution_count": 39,
   "id": "4380e7ca",
   "metadata": {},
   "outputs": [
    {
     "data": {
      "text/plain": [
       "Title                   0\n",
       "Average Rating          0\n",
       "Director                0\n",
       "Writer                  1\n",
       "Metascore            1934\n",
       "Cast                    7\n",
       "Release Date            0\n",
       "Country of Origin       3\n",
       "Languages              21\n",
       "Budget               2923\n",
       "Worldwide Gross      1110\n",
       "Runtime                 0\n",
       "Release Year            0\n",
       "dtype: int64"
      ]
     },
     "execution_count": 39,
     "metadata": {},
     "output_type": "execute_result"
    }
   ],
   "source": [
    "movie_data.isnull().sum()"
   ]
  },
  {
   "cell_type": "code",
   "execution_count": 40,
   "id": "0b4896a5",
   "metadata": {},
   "outputs": [
    {
     "name": "stdout",
     "output_type": "stream",
     "text": [
      "Buget mean : 27636745.863988385\n",
      "Worldwide Gross : 66483646.49136376\n"
     ]
    },
    {
     "data": {
      "text/plain": [
       "Title                 0\n",
       "Average Rating        0\n",
       "Director              0\n",
       "Writer                1\n",
       "Metascore             0\n",
       "Cast                  7\n",
       "Release Date          0\n",
       "Country of Origin     3\n",
       "Languages            21\n",
       "Budget                0\n",
       "Worldwide Gross       0\n",
       "Runtime               0\n",
       "Release Year          0\n",
       "dtype: int64"
      ]
     },
     "execution_count": 40,
     "metadata": {},
     "output_type": "execute_result"
    }
   ],
   "source": [
    "metascore_mean = movie_data[\"Metascore\"].mean()\n",
    "movie_data[\"Metascore\"].fillna(metascore_mean, inplace=True)\n",
    "\n",
    "buget_avg = movie_data[\"Budget\"].mean()\n",
    "movie_data[\"Budget\"] = movie_data[\"Budget\"].replace(np.nan, buget_avg)\n",
    "print(f\"Buget mean : {buget_avg}\")\n",
    "\n",
    "ww_gross_mean = movie_data[\"Worldwide Gross\"].mean()\n",
    "movie_data[\"Worldwide Gross\"] = movie_data[\"Worldwide Gross\"].replace(np.nan, ww_gross_mean)\n",
    "print(f\"Worldwide Gross : {ww_gross_mean}\")\n",
    "\n",
    "movie_data.isnull().sum()"
   ]
  },
  {
   "cell_type": "code",
   "execution_count": 41,
   "id": "5fb479cf",
   "metadata": {},
   "outputs": [
    {
     "data": {
      "text/html": [
       "<div>\n",
       "<style scoped>\n",
       "    .dataframe tbody tr th:only-of-type {\n",
       "        vertical-align: middle;\n",
       "    }\n",
       "\n",
       "    .dataframe tbody tr th {\n",
       "        vertical-align: top;\n",
       "    }\n",
       "\n",
       "    .dataframe thead th {\n",
       "        text-align: right;\n",
       "    }\n",
       "</style>\n",
       "<table border=\"1\" class=\"dataframe\">\n",
       "  <thead>\n",
       "    <tr style=\"text-align: right;\">\n",
       "      <th></th>\n",
       "      <th>Title</th>\n",
       "      <th>Average Rating</th>\n",
       "      <th>Director</th>\n",
       "      <th>Writer</th>\n",
       "      <th>Metascore</th>\n",
       "      <th>Cast</th>\n",
       "      <th>Release Date</th>\n",
       "      <th>Country of Origin</th>\n",
       "      <th>Languages</th>\n",
       "      <th>Budget</th>\n",
       "      <th>Worldwide Gross</th>\n",
       "      <th>Runtime</th>\n",
       "      <th>Release Year</th>\n",
       "    </tr>\n",
       "  </thead>\n",
       "  <tbody>\n",
       "    <tr>\n",
       "      <th>0</th>\n",
       "      <td>The Shawshank Redemption</td>\n",
       "      <td>9.3</td>\n",
       "      <td>Frank Darabont</td>\n",
       "      <td>Stephen King, Frank Darabont</td>\n",
       "      <td>82.000000</td>\n",
       "      <td>Tim Robbins, Morgan Freeman, Bob Gunton, Willi...</td>\n",
       "      <td>October 14, 1994 (India)</td>\n",
       "      <td>United States</td>\n",
       "      <td>English</td>\n",
       "      <td>2.500000e+07</td>\n",
       "      <td>2.933213e+07</td>\n",
       "      <td>2 hours 22 minutes</td>\n",
       "      <td>1994</td>\n",
       "    </tr>\n",
       "    <tr>\n",
       "      <th>1</th>\n",
       "      <td>Attack on Titan the Movie: The Last Attack</td>\n",
       "      <td>9.3</td>\n",
       "      <td>Yûichirô Hayashi</td>\n",
       "      <td>Natsuki Hanae, Yoshimasa Hosoya, Marina Inoue</td>\n",
       "      <td>74.684452</td>\n",
       "      <td>Natsuki Hanae, Yoshimasa Hosoya, Marina Inoue,...</td>\n",
       "      <td>November 8, 2024 (Japan)</td>\n",
       "      <td>Japan</td>\n",
       "      <td>Japanese</td>\n",
       "      <td>2.763675e+07</td>\n",
       "      <td>3.513659e+06</td>\n",
       "      <td>2 hours 25 minutes</td>\n",
       "      <td>2024</td>\n",
       "    </tr>\n",
       "    <tr>\n",
       "      <th>2</th>\n",
       "      <td>The Godfather</td>\n",
       "      <td>9.2</td>\n",
       "      <td>Francis Ford Coppola</td>\n",
       "      <td>Mario Puzo, Francis Ford Coppola</td>\n",
       "      <td>100.000000</td>\n",
       "      <td>Marlon Brando, Al Pacino, James Caan, Diane Ke...</td>\n",
       "      <td>1978 (India)</td>\n",
       "      <td>United States</td>\n",
       "      <td>English, Italian, Latin</td>\n",
       "      <td>6.000000e+06</td>\n",
       "      <td>2.503422e+08</td>\n",
       "      <td>2 hours 55 minutes</td>\n",
       "      <td>1978</td>\n",
       "    </tr>\n",
       "    <tr>\n",
       "      <th>3</th>\n",
       "      <td>Hababam Sinifi</td>\n",
       "      <td>9.2</td>\n",
       "      <td>Ertem Egilmez</td>\n",
       "      <td>Umur Bugay, Rifat Ilgaz</td>\n",
       "      <td>74.684452</td>\n",
       "      <td>Münir Özkul, Tarik Akan, Halit Akçatepe, Kemal...</td>\n",
       "      <td>April 1, 1975 (Turkey)</td>\n",
       "      <td>Turkey</td>\n",
       "      <td>Turkish</td>\n",
       "      <td>2.763675e+07</td>\n",
       "      <td>6.648365e+07</td>\n",
       "      <td>1 hour 25 minutes</td>\n",
       "      <td>1975</td>\n",
       "    </tr>\n",
       "    <tr>\n",
       "      <th>4</th>\n",
       "      <td>Ramayana: The Legend of Prince Rama</td>\n",
       "      <td>9.2</td>\n",
       "      <td>Ram Mohan, Yûgô Sakô, Koichi Saski</td>\n",
       "      <td>Rani Burra, Ram Mohan, Yûgô Sakô</td>\n",
       "      <td>74.684452</td>\n",
       "      <td>Arun Govil, Nikhil Kapoor, Edie Mirman, Rael P...</td>\n",
       "      <td>September 25, 2001 (India)</td>\n",
       "      <td>India, Japan</td>\n",
       "      <td>English</td>\n",
       "      <td>2.763675e+07</td>\n",
       "      <td>6.648365e+07</td>\n",
       "      <td>2 hours 15 minutes</td>\n",
       "      <td>2001</td>\n",
       "    </tr>\n",
       "  </tbody>\n",
       "</table>\n",
       "</div>"
      ],
      "text/plain": [
       "                                        Title  Average Rating  \\\n",
       "0                    The Shawshank Redemption             9.3   \n",
       "1  Attack on Titan the Movie: The Last Attack             9.3   \n",
       "2                               The Godfather             9.2   \n",
       "3                              Hababam Sinifi             9.2   \n",
       "4         Ramayana: The Legend of Prince Rama             9.2   \n",
       "\n",
       "                             Director  \\\n",
       "0                      Frank Darabont   \n",
       "1                    Yûichirô Hayashi   \n",
       "2                Francis Ford Coppola   \n",
       "3                       Ertem Egilmez   \n",
       "4  Ram Mohan, Yûgô Sakô, Koichi Saski   \n",
       "\n",
       "                                          Writer   Metascore  \\\n",
       "0                   Stephen King, Frank Darabont   82.000000   \n",
       "1  Natsuki Hanae, Yoshimasa Hosoya, Marina Inoue   74.684452   \n",
       "2               Mario Puzo, Francis Ford Coppola  100.000000   \n",
       "3                        Umur Bugay, Rifat Ilgaz   74.684452   \n",
       "4               Rani Burra, Ram Mohan, Yûgô Sakô   74.684452   \n",
       "\n",
       "                                                Cast  \\\n",
       "0  Tim Robbins, Morgan Freeman, Bob Gunton, Willi...   \n",
       "1  Natsuki Hanae, Yoshimasa Hosoya, Marina Inoue,...   \n",
       "2  Marlon Brando, Al Pacino, James Caan, Diane Ke...   \n",
       "3  Münir Özkul, Tarik Akan, Halit Akçatepe, Kemal...   \n",
       "4  Arun Govil, Nikhil Kapoor, Edie Mirman, Rael P...   \n",
       "\n",
       "                 Release Date Country of Origin                Languages  \\\n",
       "0    October 14, 1994 (India)     United States                  English   \n",
       "1    November 8, 2024 (Japan)             Japan                 Japanese   \n",
       "2                1978 (India)     United States  English, Italian, Latin   \n",
       "3      April 1, 1975 (Turkey)            Turkey                  Turkish   \n",
       "4  September 25, 2001 (India)      India, Japan                  English   \n",
       "\n",
       "         Budget  Worldwide Gross             Runtime  Release Year  \n",
       "0  2.500000e+07     2.933213e+07  2 hours 22 minutes          1994  \n",
       "1  2.763675e+07     3.513659e+06  2 hours 25 minutes          2024  \n",
       "2  6.000000e+06     2.503422e+08  2 hours 55 minutes          1978  \n",
       "3  2.763675e+07     6.648365e+07   1 hour 25 minutes          1975  \n",
       "4  2.763675e+07     6.648365e+07  2 hours 15 minutes          2001  "
      ]
     },
     "execution_count": 41,
     "metadata": {},
     "output_type": "execute_result"
    }
   ],
   "source": [
    "movie_data.head()"
   ]
  },
  {
   "cell_type": "markdown",
   "id": "e8bbf997",
   "metadata": {},
   "source": [
    "covert runtime object to int"
   ]
  },
  {
   "cell_type": "code",
   "execution_count": 67,
   "id": "5e34d6fd",
   "metadata": {},
   "outputs": [],
   "source": [
    "import re\n",
    "\n",
    "def convert_runtime_to_minutes(runtime):\n",
    "    if isinstance(runtime, str):\n",
    "        # Extract hours and minutes using regex\n",
    "        hours = re.search(r'(\\d+)\\s*hour', runtime)\n",
    "        minutes = re.search(r'(\\d+)\\s*minute', runtime)\n",
    "        \n",
    "        # Convert to total minutes\n",
    "        total_minutes = 0\n",
    "        if hours:\n",
    "            total_minutes += int(hours.group(1)) * 60\n",
    "        if minutes:\n",
    "            total_minutes += int(minutes.group(1))\n",
    "        return total_minutes\n",
    "    return None  # Return None for invalid entries\n",
    "\n",
    "movie_data['Runtime'] = movie_data['Runtime'].apply(convert_runtime_to_minutes)\n"
   ]
  },
  {
   "cell_type": "code",
   "execution_count": 42,
   "id": "e600b0ca",
   "metadata": {},
   "outputs": [
    {
     "data": {
      "text/plain": [
       "Title                 object\n",
       "Average Rating       float64\n",
       "Director              object\n",
       "Writer                object\n",
       "Metascore            float64\n",
       "Cast                  object\n",
       "Release Date          object\n",
       "Country of Origin     object\n",
       "Languages             object\n",
       "Budget               float64\n",
       "Worldwide Gross      float64\n",
       "Runtime               object\n",
       "Release Year           int32\n",
       "dtype: object"
      ]
     },
     "execution_count": 42,
     "metadata": {},
     "output_type": "execute_result"
    }
   ],
   "source": [
    "movie_data.dtypes"
   ]
  },
  {
   "cell_type": "code",
   "execution_count": 43,
   "id": "7a90168b",
   "metadata": {},
   "outputs": [
    {
     "data": {
      "text/plain": [
       "Average Rating\n",
       "7.3    679\n",
       "7.2    637\n",
       "7.4    588\n",
       "7.5    580\n",
       "7.6    511\n",
       "7.7    409\n",
       "7.8    342\n",
       "7.9    274\n",
       "8.0    254\n",
       "8.1    223\n",
       "8.2    165\n",
       "8.3    104\n",
       "8.4     62\n",
       "8.5     57\n",
       "8.6     30\n",
       "8.7     30\n",
       "8.8     21\n",
       "8.9      9\n",
       "9.0      7\n",
       "9.2      3\n",
       "9.1      2\n",
       "9.3      2\n",
       "Name: count, dtype: int64"
      ]
     },
     "execution_count": 43,
     "metadata": {},
     "output_type": "execute_result"
    }
   ],
   "source": [
    "movie_data[\"Average Rating\"].value_counts()"
   ]
  },
  {
   "cell_type": "code",
   "execution_count": 44,
   "id": "40019e9a",
   "metadata": {},
   "outputs": [
    {
     "data": {
      "text/plain": [
       "Languages\n",
       "English                   1514\n",
       "Hindi                      239\n",
       "Japanese                   160\n",
       "English, Spanish           142\n",
       "French                     130\n",
       "                          ... \n",
       "Spanish, Maya, English       1\n",
       "French, Romanian             1\n",
       "Turkish, Georgian            1\n",
       "Malayalam, German            1\n",
       "Turkish, French              1\n",
       "Name: count, Length: 1084, dtype: int64"
      ]
     },
     "execution_count": 44,
     "metadata": {},
     "output_type": "execute_result"
    }
   ],
   "source": [
    "movie_data[\"Languages\"].value_counts()"
   ]
  },
  {
   "cell_type": "code",
   "execution_count": 45,
   "id": "4d98c161",
   "metadata": {},
   "outputs": [
    {
     "data": {
      "text/plain": [
       "Country of Origin\n",
       "United States                             1624\n",
       "India                                      583\n",
       "Japan                                      206\n",
       "United Kingdom, United States              167\n",
       "United Kingdom                             164\n",
       "                                          ... \n",
       "France, Italy, West Germany, Chile           1\n",
       "United Kingdom, Ireland, France              1\n",
       "Chile, Spain, United Kingdom, France         1\n",
       "Czech Republic, United Kingdom, France       1\n",
       "Israel, Switzerland, Germany, France         1\n",
       "Name: count, Length: 812, dtype: int64"
      ]
     },
     "execution_count": 45,
     "metadata": {},
     "output_type": "execute_result"
    }
   ],
   "source": [
    "movie_data[\"Country of Origin\"].value_counts()"
   ]
  },
  {
   "cell_type": "markdown",
   "id": "4ee87c10",
   "metadata": {},
   "source": [
    "#### Exploratory Data Analysis (with SQL)"
   ]
  },
  {
   "cell_type": "code",
   "execution_count": 49,
   "id": "17ad6be1",
   "metadata": {},
   "outputs": [],
   "source": [
    "%load_ext sql"
   ]
  },
  {
   "cell_type": "code",
   "execution_count": 50,
   "id": "54f0253b",
   "metadata": {},
   "outputs": [],
   "source": [
    "import prettytable\n",
    "prettytable.DEFAULT = 'DEFAULT'"
   ]
  },
  {
   "cell_type": "code",
   "execution_count": 51,
   "id": "141f0bf6",
   "metadata": {},
   "outputs": [],
   "source": [
    "import sqlite3\n",
    "# Create a connection to SQLite database (or change for another DB)\n",
    "conn = sqlite3.connect('movies.db')\n",
    "cursor = conn.cursor()\n"
   ]
  },
  {
   "cell_type": "code",
   "execution_count": 52,
   "id": "2041a19b",
   "metadata": {},
   "outputs": [],
   "source": [
    "%sql sqlite:///movies.db"
   ]
  },
  {
   "cell_type": "code",
   "execution_count": 53,
   "id": "776846a6",
   "metadata": {},
   "outputs": [
    {
     "data": {
      "text/plain": [
       "4989"
      ]
     },
     "execution_count": 53,
     "metadata": {},
     "output_type": "execute_result"
    }
   ],
   "source": [
    "# Write the DataFrame to a SQL table (if the table doesn't exist, it will be created)\n",
    "movie_data.to_sql(\"MOVIETABLE\", conn, if_exists='replace', index=False, method=\"multi\")"
   ]
  },
  {
   "cell_type": "code",
   "execution_count": 54,
   "id": "66237781",
   "metadata": {},
   "outputs": [
    {
     "name": "stdout",
     "output_type": "stream",
     "text": [
      " * sqlite:///movies.db\n",
      "Done.\n"
     ]
    },
    {
     "data": {
      "text/html": [
       "<table>\n",
       "    <thead>\n",
       "        <tr>\n",
       "            <th>name</th>\n",
       "        </tr>\n",
       "    </thead>\n",
       "    <tbody>\n",
       "        <tr>\n",
       "            <td>movies_table</td>\n",
       "        </tr>\n",
       "        <tr>\n",
       "            <td>MOVIETABLE</td>\n",
       "        </tr>\n",
       "    </tbody>\n",
       "</table>"
      ],
      "text/plain": [
       "[('movies_table',), ('MOVIETABLE',)]"
      ]
     },
     "execution_count": 54,
     "metadata": {},
     "output_type": "execute_result"
    }
   ],
   "source": [
    "%sql SELECT name FROM sqlite_master WHERE type='table';"
   ]
  },
  {
   "cell_type": "code",
   "execution_count": 69,
   "id": "f1a237dd",
   "metadata": {},
   "outputs": [
    {
     "name": "stdout",
     "output_type": "stream",
     "text": [
      " * sqlite:///movies.db\n",
      "Done.\n"
     ]
    },
    {
     "data": {
      "text/html": [
       "<table>\n",
       "    <thead>\n",
       "        <tr>\n",
       "            <th>Title</th>\n",
       "            <th>Average_Rating</th>\n",
       "            <th>Director</th>\n",
       "            <th>Writer</th>\n",
       "            <th>Metascore</th>\n",
       "            <th>Cast</th>\n",
       "            <th>Release_Date</th>\n",
       "            <th>Country_of_Origin</th>\n",
       "            <th>Languages</th>\n",
       "            <th>Budget</th>\n",
       "            <th>Worldwide_Gross</th>\n",
       "            <th>Runtime</th>\n",
       "            <th>Release_Year</th>\n",
       "        </tr>\n",
       "    </thead>\n",
       "    <tbody>\n",
       "        <tr>\n",
       "            <td>The Shawshank Redemption</td>\n",
       "            <td>9.3</td>\n",
       "            <td>Frank Darabont</td>\n",
       "            <td>Stephen King, Frank Darabont</td>\n",
       "            <td>82.0</td>\n",
       "            <td>Tim Robbins, Morgan Freeman, Bob Gunton, William Sadler, Clancy Brown, Gil Bellows, Mark Rolston, James Whitmore, Jeffrey DeMunn, Larry Brandenburg, Neil Giuntoli, Brian Libby, David Proval, Joseph Ragno, Jude Ciccolella, Paul McCrane, Renee Blaine, Scott Mann</td>\n",
       "            <td>October 14, 1994 (India)</td>\n",
       "            <td>United States</td>\n",
       "            <td>English</td>\n",
       "            <td>25000000.0</td>\n",
       "            <td>29332133.0</td>\n",
       "            <td>2 hours 22 minutes</td>\n",
       "            <td>1994</td>\n",
       "        </tr>\n",
       "        <tr>\n",
       "            <td>Attack on Titan the Movie: The Last Attack</td>\n",
       "            <td>9.3</td>\n",
       "            <td>Yûichirô Hayashi</td>\n",
       "            <td>Natsuki Hanae, Yoshimasa Hosoya, Marina Inoue</td>\n",
       "            <td>74.68445171849427</td>\n",
       "            <td>Natsuki Hanae, Yoshimasa Hosoya, Marina Inoue, Yui Ishikawa, Yûki Kaji, Hiroshi Kamiya, Takehito Koyasu, Shiori Mikami, Manami Numakura, Romi Park, Ayane Sakura, Yû Shimamura, Hiro Shimono, Kishô Taniyama</td>\n",
       "            <td>November 8, 2024 (Japan)</td>\n",
       "            <td>Japan</td>\n",
       "            <td>Japanese</td>\n",
       "            <td>27636745.863988385</td>\n",
       "            <td>3513659.0</td>\n",
       "            <td>2 hours 25 minutes</td>\n",
       "            <td>2024</td>\n",
       "        </tr>\n",
       "        <tr>\n",
       "            <td>The Godfather</td>\n",
       "            <td>9.2</td>\n",
       "            <td>Francis Ford Coppola</td>\n",
       "            <td>Mario Puzo, Francis Ford Coppola</td>\n",
       "            <td>100.0</td>\n",
       "            <td>Marlon Brando, Al Pacino, James Caan, Diane Keaton, Richard S. Castellano, Robert Duvall, Sterling Hayden, John Marley, Richard Conte, Al Lettieri, Abe Vigoda, Talia Shire, Gianni Russo, John Cazale, Rudy Bond, Al Martino, Morgana King, Lenny Montana</td>\n",
       "            <td>1978 (India)</td>\n",
       "            <td>United States</td>\n",
       "            <td>English, Italian, Latin</td>\n",
       "            <td>6000000.0</td>\n",
       "            <td>250342198.0</td>\n",
       "            <td>2 hours 55 minutes</td>\n",
       "            <td>1978</td>\n",
       "        </tr>\n",
       "        <tr>\n",
       "            <td>Hababam Sinifi</td>\n",
       "            <td>9.2</td>\n",
       "            <td>Ertem Egilmez</td>\n",
       "            <td>Umur Bugay, Rifat Ilgaz</td>\n",
       "            <td>74.68445171849427</td>\n",
       "            <td>Münir Özkul, Tarik Akan, Halit Akçatepe, Kemal Sunal, Adile Nasit, Sitki Akçatepe, Selim Nasit Özcan, Muharrem Gürses, Ahmet Ariman, Ertugrul Bilda, Talat Dumanli, Ekrem Dümer, Kemal Ergüvenç, Ercan Gezmis, Aysen Gruda, Dilaver Gür, Cem Gürdap, Bülent Haksever</td>\n",
       "            <td>April 1, 1975 (Turkey)</td>\n",
       "            <td>Turkey</td>\n",
       "            <td>Turkish</td>\n",
       "            <td>27636745.863988385</td>\n",
       "            <td>66483646.49136376</td>\n",
       "            <td>1 hour 25 minutes</td>\n",
       "            <td>1975</td>\n",
       "        </tr>\n",
       "        <tr>\n",
       "            <td>Ramayana: The Legend of Prince Rama</td>\n",
       "            <td>9.2</td>\n",
       "            <td>Ram Mohan, Yûgô Sakô, Koichi Saski</td>\n",
       "            <td>Rani Burra, Ram Mohan, Yûgô Sakô</td>\n",
       "            <td>74.68445171849427</td>\n",
       "            <td>Arun Govil, Nikhil Kapoor, Edie Mirman, Rael Padamsee, Namrata Sawhney, Uday Mathan, Shatrughan Sinha, Jinder Walia, Amrish Puri, Mishal Varma, Noel Godin, Shakti Singh, Dilip Sinha, Madhulika Varma, Mari Devon, Pearl Padamsee, Barbara Goodson, Shagufta Jaffrey</td>\n",
       "            <td>September 25, 2001 (India)</td>\n",
       "            <td>India, Japan</td>\n",
       "            <td>English</td>\n",
       "            <td>27636745.863988385</td>\n",
       "            <td>66483646.49136376</td>\n",
       "            <td>2 hours 15 minutes</td>\n",
       "            <td>2001</td>\n",
       "        </tr>\n",
       "    </tbody>\n",
       "</table>"
      ],
      "text/plain": [
       "[('The Shawshank Redemption', 9.3, 'Frank Darabont', 'Stephen King, Frank Darabont', 82.0, 'Tim Robbins, Morgan Freeman, Bob Gunton, William Sadler, Clancy Brown, Gil Bellows, Mark Rolston, James Whitmore, Jeffrey DeMunn, Larry Brandenburg, Neil Giuntoli, Brian Libby, David Proval, Joseph Ragno, Jude Ciccolella, Paul McCrane, Renee Blaine, Scott Mann', 'October 14, 1994 (India)', 'United States', 'English', 25000000.0, 29332133.0, '2 hours 22 minutes', 1994),\n",
       " ('Attack on Titan the Movie: The Last Attack', 9.3, 'Yûichirô Hayashi', 'Natsuki Hanae, Yoshimasa Hosoya, Marina Inoue', 74.68445171849427, 'Natsuki Hanae, Yoshimasa Hosoya, Marina Inoue, Yui Ishikawa, Yûki Kaji, Hiroshi Kamiya, Takehito Koyasu, Shiori Mikami, Manami Numakura, Romi Park, Ayane Sakura, Yû Shimamura, Hiro Shimono, Kishô Taniyama', 'November 8, 2024 (Japan)', 'Japan', 'Japanese', 27636745.863988385, 3513659.0, '2 hours 25 minutes', 2024),\n",
       " ('The Godfather', 9.2, 'Francis Ford Coppola', 'Mario Puzo, Francis Ford Coppola', 100.0, 'Marlon Brando, Al Pacino, James Caan, Diane Keaton, Richard S. Castellano, Robert Duvall, Sterling Hayden, John Marley, Richard Conte, Al Lettieri, Abe Vigoda, Talia Shire, Gianni Russo, John Cazale, Rudy Bond, Al Martino, Morgana King, Lenny Montana', '1978 (India)', 'United States', 'English, Italian, Latin', 6000000.0, 250342198.0, '2 hours 55 minutes', 1978),\n",
       " ('Hababam Sinifi', 9.2, 'Ertem Egilmez', 'Umur Bugay, Rifat Ilgaz', 74.68445171849427, 'Münir Özkul, Tarik Akan, Halit Akçatepe, Kemal Sunal, Adile Nasit, Sitki Akçatepe, Selim Nasit Özcan, Muharrem Gürses, Ahmet Ariman, Ertugrul Bilda, Talat Dumanli, Ekrem Dümer, Kemal Ergüvenç, Ercan Gezmis, Aysen Gruda, Dilaver Gür, Cem Gürdap, Bülent Haksever', 'April 1, 1975 (Turkey)', 'Turkey', 'Turkish', 27636745.863988385, 66483646.49136376, '1 hour 25 minutes', 1975),\n",
       " ('Ramayana: The Legend of Prince Rama', 9.2, 'Ram Mohan, Yûgô Sakô, Koichi Saski', 'Rani Burra, Ram Mohan, Yûgô Sakô', 74.68445171849427, 'Arun Govil, Nikhil Kapoor, Edie Mirman, Rael Padamsee, Namrata Sawhney, Uday Mathan, Shatrughan Sinha, Jinder Walia, Amrish Puri, Mishal Varma, Noel Godin, Shakti Singh, Dilip Sinha, Madhulika Varma, Mari Devon, Pearl Padamsee, Barbara Goodson, Shagufta Jaffrey', 'September 25, 2001 (India)', 'India, Japan', 'English', 27636745.863988385, 66483646.49136376, '2 hours 15 minutes', 2001)]"
      ]
     },
     "execution_count": 69,
     "metadata": {},
     "output_type": "execute_result"
    }
   ],
   "source": [
    "%sql select * from MOVIETABLE limit 5"
   ]
  },
  {
   "cell_type": "code",
   "execution_count": 56,
   "id": "39fb5a36",
   "metadata": {},
   "outputs": [
    {
     "name": "stdout",
     "output_type": "stream",
     "text": [
      " * sqlite:///movies.db\n",
      "Done.\n"
     ]
    },
    {
     "data": {
      "text/html": [
       "<table>\n",
       "    <thead>\n",
       "        <tr>\n",
       "            <th>Avg_movie_budget</th>\n",
       "        </tr>\n",
       "    </thead>\n",
       "    <tbody>\n",
       "        <tr>\n",
       "            <td>27636745.863987077</td>\n",
       "        </tr>\n",
       "    </tbody>\n",
       "</table>"
      ],
      "text/plain": [
       "[(27636745.863987077,)]"
      ]
     },
     "execution_count": 56,
     "metadata": {},
     "output_type": "execute_result"
    }
   ],
   "source": [
    "%sql select avg(Budget) as Avg_movie_budget from MOVIETABLE;"
   ]
  },
  {
   "cell_type": "code",
   "execution_count": 57,
   "id": "e1d660b4",
   "metadata": {},
   "outputs": [
    {
     "name": "stdout",
     "output_type": "stream",
     "text": [
      " * sqlite:///movies.db\n",
      "Done.\n"
     ]
    },
    {
     "data": {
      "text/html": [
       "<table>\n",
       "    <thead>\n",
       "        <tr>\n",
       "            <th>Title</th>\n",
       "            <th>Average_Rating</th>\n",
       "            <th>Metascore</th>\n",
       "        </tr>\n",
       "    </thead>\n",
       "    <tbody>\n",
       "        <tr>\n",
       "            <td>The Shawshank Redemption</td>\n",
       "            <td>9.3</td>\n",
       "            <td>82.0</td>\n",
       "        </tr>\n",
       "        <tr>\n",
       "            <td>Attack on Titan the Movie: The Last Attack</td>\n",
       "            <td>9.3</td>\n",
       "            <td>74.68445171849427</td>\n",
       "        </tr>\n",
       "        <tr>\n",
       "            <td>The Godfather</td>\n",
       "            <td>9.2</td>\n",
       "            <td>100.0</td>\n",
       "        </tr>\n",
       "        <tr>\n",
       "            <td>Hababam Sinifi</td>\n",
       "            <td>9.2</td>\n",
       "            <td>74.68445171849427</td>\n",
       "        </tr>\n",
       "        <tr>\n",
       "            <td>Ramayana: The Legend of Prince Rama</td>\n",
       "            <td>9.2</td>\n",
       "            <td>74.68445171849427</td>\n",
       "        </tr>\n",
       "        <tr>\n",
       "            <td>The Silence of Swastika</td>\n",
       "            <td>9.1</td>\n",
       "            <td>74.68445171849427</td>\n",
       "        </tr>\n",
       "        <tr>\n",
       "            <td>Maya Bazaar</td>\n",
       "            <td>9.1</td>\n",
       "            <td>74.68445171849427</td>\n",
       "        </tr>\n",
       "        <tr>\n",
       "            <td>The Dark Knight</td>\n",
       "            <td>9.0</td>\n",
       "            <td>84.0</td>\n",
       "        </tr>\n",
       "        <tr>\n",
       "            <td>Schindler&#x27;s List</td>\n",
       "            <td>9.0</td>\n",
       "            <td>95.0</td>\n",
       "        </tr>\n",
       "        <tr>\n",
       "            <td>12 Angry Men</td>\n",
       "            <td>9.0</td>\n",
       "            <td>97.0</td>\n",
       "        </tr>\n",
       "        <tr>\n",
       "            <td>The Godfather: Part II</td>\n",
       "            <td>9.0</td>\n",
       "            <td>90.0</td>\n",
       "        </tr>\n",
       "        <tr>\n",
       "            <td>The Lord of the Rings: The Return of the King</td>\n",
       "            <td>9.0</td>\n",
       "            <td>94.0</td>\n",
       "        </tr>\n",
       "        <tr>\n",
       "            <td>Sandesham</td>\n",
       "            <td>9.0</td>\n",
       "            <td>74.68445171849427</td>\n",
       "        </tr>\n",
       "        <tr>\n",
       "            <td>Oggatonama</td>\n",
       "            <td>9.0</td>\n",
       "            <td>74.68445171849427</td>\n",
       "        </tr>\n",
       "    </tbody>\n",
       "</table>"
      ],
      "text/plain": [
       "[('The Shawshank Redemption', 9.3, 82.0),\n",
       " ('Attack on Titan the Movie: The Last Attack', 9.3, 74.68445171849427),\n",
       " ('The Godfather', 9.2, 100.0),\n",
       " ('Hababam Sinifi', 9.2, 74.68445171849427),\n",
       " ('Ramayana: The Legend of Prince Rama', 9.2, 74.68445171849427),\n",
       " ('The Silence of Swastika', 9.1, 74.68445171849427),\n",
       " ('Maya Bazaar', 9.1, 74.68445171849427),\n",
       " ('The Dark Knight', 9.0, 84.0),\n",
       " (\"Schindler's List\", 9.0, 95.0),\n",
       " ('12 Angry Men', 9.0, 97.0),\n",
       " ('The Godfather: Part II', 9.0, 90.0),\n",
       " ('The Lord of the Rings: The Return of the King', 9.0, 94.0),\n",
       " ('Sandesham', 9.0, 74.68445171849427),\n",
       " ('Oggatonama', 9.0, 74.68445171849427)]"
      ]
     },
     "execution_count": 57,
     "metadata": {},
     "output_type": "execute_result"
    }
   ],
   "source": [
    "%sql select Title, \"Average Rating\",Metascore from MOVIETABLE where \"Average Rating\" >= 9.0;"
   ]
  },
  {
   "cell_type": "code",
   "execution_count": 58,
   "id": "c3c8c91f",
   "metadata": {},
   "outputs": [
    {
     "name": "stdout",
     "output_type": "stream",
     "text": [
      " * sqlite:///movies.db\n",
      "Done.\n"
     ]
    },
    {
     "data": {
      "text/html": [
       "<table>\n",
       "    <thead>\n",
       "        <tr>\n",
       "            <th>Average_Rating</th>\n",
       "            <th>movie_count</th>\n",
       "        </tr>\n",
       "    </thead>\n",
       "    <tbody>\n",
       "        <tr>\n",
       "            <td>9.3</td>\n",
       "            <td>1</td>\n",
       "        </tr>\n",
       "        <tr>\n",
       "            <td>9.2</td>\n",
       "            <td>1</td>\n",
       "        </tr>\n",
       "        <tr>\n",
       "            <td>9.1</td>\n",
       "            <td>1</td>\n",
       "        </tr>\n",
       "        <tr>\n",
       "            <td>9.0</td>\n",
       "            <td>3</td>\n",
       "        </tr>\n",
       "        <tr>\n",
       "            <td>8.9</td>\n",
       "            <td>5</td>\n",
       "        </tr>\n",
       "        <tr>\n",
       "            <td>8.8</td>\n",
       "            <td>14</td>\n",
       "        </tr>\n",
       "        <tr>\n",
       "            <td>8.7</td>\n",
       "            <td>15</td>\n",
       "        </tr>\n",
       "        <tr>\n",
       "            <td>8.6</td>\n",
       "            <td>9</td>\n",
       "        </tr>\n",
       "        <tr>\n",
       "            <td>8.5</td>\n",
       "            <td>29</td>\n",
       "        </tr>\n",
       "        <tr>\n",
       "            <td>8.4</td>\n",
       "            <td>40</td>\n",
       "        </tr>\n",
       "        <tr>\n",
       "            <td>8.3</td>\n",
       "            <td>55</td>\n",
       "        </tr>\n",
       "        <tr>\n",
       "            <td>8.2</td>\n",
       "            <td>111</td>\n",
       "        </tr>\n",
       "        <tr>\n",
       "            <td>8.1</td>\n",
       "            <td>118</td>\n",
       "        </tr>\n",
       "        <tr>\n",
       "            <td>8.0</td>\n",
       "            <td>139</td>\n",
       "        </tr>\n",
       "        <tr>\n",
       "            <td>7.9</td>\n",
       "            <td>131</td>\n",
       "        </tr>\n",
       "        <tr>\n",
       "            <td>7.8</td>\n",
       "            <td>189</td>\n",
       "        </tr>\n",
       "        <tr>\n",
       "            <td>7.7</td>\n",
       "            <td>208</td>\n",
       "        </tr>\n",
       "        <tr>\n",
       "            <td>7.6</td>\n",
       "            <td>277</td>\n",
       "        </tr>\n",
       "        <tr>\n",
       "            <td>7.5</td>\n",
       "            <td>326</td>\n",
       "        </tr>\n",
       "        <tr>\n",
       "            <td>7.4</td>\n",
       "            <td>338</td>\n",
       "        </tr>\n",
       "        <tr>\n",
       "            <td>7.3</td>\n",
       "            <td>397</td>\n",
       "        </tr>\n",
       "        <tr>\n",
       "            <td>7.2</td>\n",
       "            <td>333</td>\n",
       "        </tr>\n",
       "    </tbody>\n",
       "</table>"
      ],
      "text/plain": [
       "[(9.3, 1),\n",
       " (9.2, 1),\n",
       " (9.1, 1),\n",
       " (9.0, 3),\n",
       " (8.9, 5),\n",
       " (8.8, 14),\n",
       " (8.7, 15),\n",
       " (8.6, 9),\n",
       " (8.5, 29),\n",
       " (8.4, 40),\n",
       " (8.3, 55),\n",
       " (8.2, 111),\n",
       " (8.1, 118),\n",
       " (8.0, 139),\n",
       " (7.9, 131),\n",
       " (7.8, 189),\n",
       " (7.7, 208),\n",
       " (7.6, 277),\n",
       " (7.5, 326),\n",
       " (7.4, 338),\n",
       " (7.3, 397),\n",
       " (7.2, 333)]"
      ]
     },
     "execution_count": 58,
     "metadata": {},
     "output_type": "execute_result"
    }
   ],
   "source": [
    "%%sql \n",
    "select \"Average Rating\",count(*) as movie_count from MOVIETABLE \n",
    "where \"Release Year\" > 2000 \n",
    "group by \"Average Rating\"\n",
    "order by \"Average_Rating\" DESC;"
   ]
  },
  {
   "cell_type": "code",
   "execution_count": 59,
   "id": "513562eb",
   "metadata": {},
   "outputs": [
    {
     "name": "stdout",
     "output_type": "stream",
     "text": [
      " * sqlite:///movies.db\n",
      "Done.\n"
     ]
    },
    {
     "data": {
      "text/html": [
       "<table>\n",
       "    <thead>\n",
       "        <tr>\n",
       "            <th>Release_Year</th>\n",
       "            <th>movie_count</th>\n",
       "        </tr>\n",
       "    </thead>\n",
       "    <tbody>\n",
       "        <tr>\n",
       "            <td>2011</td>\n",
       "            <td>113</td>\n",
       "        </tr>\n",
       "        <tr>\n",
       "            <td>2012</td>\n",
       "            <td>105</td>\n",
       "        </tr>\n",
       "        <tr>\n",
       "            <td>2013</td>\n",
       "            <td>148</td>\n",
       "        </tr>\n",
       "        <tr>\n",
       "            <td>2014</td>\n",
       "            <td>132</td>\n",
       "        </tr>\n",
       "        <tr>\n",
       "            <td>2015</td>\n",
       "            <td>142</td>\n",
       "        </tr>\n",
       "        <tr>\n",
       "            <td>2016</td>\n",
       "            <td>129</td>\n",
       "        </tr>\n",
       "        <tr>\n",
       "            <td>2017</td>\n",
       "            <td>157</td>\n",
       "        </tr>\n",
       "        <tr>\n",
       "            <td>2018</td>\n",
       "            <td>158</td>\n",
       "        </tr>\n",
       "        <tr>\n",
       "            <td>2019</td>\n",
       "            <td>168</td>\n",
       "        </tr>\n",
       "        <tr>\n",
       "            <td>2020</td>\n",
       "            <td>129</td>\n",
       "        </tr>\n",
       "        <tr>\n",
       "            <td>2021</td>\n",
       "            <td>138</td>\n",
       "        </tr>\n",
       "        <tr>\n",
       "            <td>2022</td>\n",
       "            <td>114</td>\n",
       "        </tr>\n",
       "        <tr>\n",
       "            <td>2023</td>\n",
       "            <td>106</td>\n",
       "        </tr>\n",
       "        <tr>\n",
       "            <td>2024</td>\n",
       "            <td>78</td>\n",
       "        </tr>\n",
       "    </tbody>\n",
       "</table>"
      ],
      "text/plain": [
       "[(2011, 113),\n",
       " (2012, 105),\n",
       " (2013, 148),\n",
       " (2014, 132),\n",
       " (2015, 142),\n",
       " (2016, 129),\n",
       " (2017, 157),\n",
       " (2018, 158),\n",
       " (2019, 168),\n",
       " (2020, 129),\n",
       " (2021, 138),\n",
       " (2022, 114),\n",
       " (2023, 106),\n",
       " (2024, 78)]"
      ]
     },
     "execution_count": 59,
     "metadata": {},
     "output_type": "execute_result"
    }
   ],
   "source": [
    "%%sql \n",
    "select \"Release Year\",count(*) as movie_count from MOVIETABLE \n",
    "where \"Release Year\" > 2010 \n",
    "group by \"Release Year\"\n",
    "order by \"Release Year\";"
   ]
  },
  {
   "cell_type": "markdown",
   "id": "3384b1ca",
   "metadata": {},
   "source": [
    "#### EDA with Data Visualization"
   ]
  },
  {
   "cell_type": "code",
   "execution_count": 60,
   "id": "943c6ecf",
   "metadata": {},
   "outputs": [
    {
     "name": "stderr",
     "output_type": "stream",
     "text": [
      "C:\\Users\\Admin\\anaconda3\\Lib\\site-packages\\seaborn\\axisgrid.py:118: UserWarning: The figure layout has changed to tight\n",
      "  self._figure.tight_layout(*args, **kwargs)\n"
     ]
    },
    {
     "data": {
      "text/plain": [
       "<Figure size 1000x400 with 0 Axes>"
      ]
     },
     "metadata": {},
     "output_type": "display_data"
    },
    {
     "data": {
      "image/png": "[encoded data removed]",
      "text/plain": [
       "<Figure size 2620.36x500 with 1 Axes>"
      ]
     },
     "metadata": {},
     "output_type": "display_data"
    }
   ],
   "source": [
    "def year_bin(year):\n",
    "    if pd.notnull(year):\n",
    "        return f\"{(year // 10) * 10}s\"\n",
    "    return 'Unknown'\n",
    "\n",
    "movie_data['Decade'] = movie_data['Release Year'].apply(year_bin)\n",
    "\n",
    "decade_counts = movie_data.groupby('Decade')['Average Rating'].value_counts().sort_index()\n",
    "\n",
    "plt.figure(figsize=(10,4))\n",
    "sns.catplot(y=\"Average Rating\", x=\"Decade\", hue=\"Average Rating\", data=decade_counts, aspect = 5)\n",
    "plt.xlabel(\"Release Year\",fontsize=20)\n",
    "plt.ylabel(\"Average Rating\",fontsize=20)\n",
    "plt.show()"
   ]
  },
  {
   "cell_type": "code",
   "execution_count": 61,
   "id": "688333f3",
   "metadata": {},
   "outputs": [
    {
     "data": {
      "image/png": "[encoded data removed]",
      "text/plain": [
       "<Figure size 1000x600 with 1 Axes>"
      ]
     },
     "metadata": {},
     "output_type": "display_data"
    }
   ],
   "source": [
    "# Group by average rating and count the number of movies for each rating\n",
    "rating_counts = movie_data['Average Rating'].value_counts().sort_index()\n",
    "\n",
    "plt.figure(figsize=(10, 6))\n",
    "rating_counts.plot(kind='bar', color='skyblue')\n",
    "plt.title('Count of Movies Based on Average Rating')\n",
    "plt.xlabel('Average Rating')\n",
    "plt.ylabel('Number of Movies')\n",
    "plt.show()"
   ]
  },
  {
   "cell_type": "code",
   "execution_count": 62,
   "id": "a52024ff",
   "metadata": {},
   "outputs": [
    {
     "data": {
      "image/png": "[encoded data removed]",
      "text/plain": [
       "<Figure size 1000x600 with 1 Axes>"
      ]
     },
     "metadata": {},
     "output_type": "display_data"
    }
   ],
   "source": [
    "metascore_group = movie_data.groupby('Average Rating')['Metascore'].mean()\n",
    "\n",
    "plt.figure(figsize=(10, 6))\n",
    "metascore_group.plot(kind='line', color='skyblue')\n",
    "plt.title('Average Movies Metascore Based on Average Rating')\n",
    "plt.xlabel('Average Rating')\n",
    "plt.ylabel('Metascore')\n",
    "plt.show()"
   ]
  },
  {
   "cell_type": "code",
   "execution_count": 63,
   "id": "9cd48cf3",
   "metadata": {},
   "outputs": [
    {
     "data": {
      "image/png": "[encoded data removed]",
      "text/plain": [
       "<Figure size 640x480 with 1 Axes>"
      ]
     },
     "metadata": {},
     "output_type": "display_data"
    }
   ],
   "source": [
    "sns.scatterplot(x='Budget', y='Worldwide Gross', data=movie_data, hue=\"Average Rating\")\n",
    "plt.title('Budget vs. Worldwide Gross')\n",
    "plt.xlabel('Budget (in millions)')\n",
    "plt.ylabel('Worldwide Gross (in millions)')\n",
    "plt.show()"
   ]
  },
  {
   "cell_type": "code",
   "execution_count": 64,
   "id": "1250475e",
   "metadata": {},
   "outputs": [
    {
     "data": {
      "image/png": "[encoded data removed]",
      "text/plain": [
       "<Figure size 640x480 with 1 Axes>"
      ]
     },
     "metadata": {},
     "output_type": "display_data"
    }
   ],
   "source": [
    "top_directors = movie_data.groupby('Director')['Average Rating'].mean().nlargest(10)\n",
    "\n",
    "# Plot the top directors\n",
    "sns.barplot(x=top_directors.values, y=top_directors.index)\n",
    "plt.title('Top 10 Directors by Average Rating')\n",
    "plt.xlabel('Average Rating')\n",
    "plt.ylabel('Director')\n",
    "plt.show()"
   ]
  },
  {
   "cell_type": "markdown",
   "id": "df66df06",
   "metadata": {},
   "source": [
    "#### Predictive Analysis"
   ]
  },
  {
   "cell_type": "code",
   "execution_count": 70,
   "id": "f96c5f07",
   "metadata": {},
   "outputs": [
    {
     "name": "stdout",
     "output_type": "stream",
     "text": [
      "MAE: 64386598.63820899\n",
      "MSE: 1.1641073086049442e+16\n",
      "R2 Score: 0.5509050354584191\n"
     ]
    }
   ],
   "source": [
    "from sklearn.model_selection import train_test_split\n",
    "from sklearn.linear_model import LinearRegression\n",
    "from sklearn.metrics import mean_absolute_error, mean_squared_error, r2_score\n",
    "\n",
    "# Prepare the data for prediction\n",
    "X = movie_data[['Budget', 'Runtime', 'Release Year']].dropna()\n",
    "y = movie_data['Worldwide Gross'].dropna()\n",
    "\n",
    "\n",
    "# Split the data\n",
    "X_train, X_test, y_train, y_test = train_test_split(X, y, test_size=0.2, random_state=42)\n",
    "\n",
    "# Model Training\n",
    "lr = LinearRegression()\n",
    "lr.fit(X_train, y_train)\n",
    "\n",
    "# Predict \n",
    "y_pred = lr.predict(X_test)\n",
    "\n",
    "# Evaluation\n",
    "print(\"MAE:\", mean_absolute_error(y_test, y_pred))\n",
    "print(\"MSE:\", mean_squared_error(y_test, y_pred))\n",
    "print(\"R2 Score:\", r2_score(y_test, y_pred))\n"
   ]
  },
  {
   "cell_type": "code",
   "execution_count": 71,
   "id": "982c5c71",
   "metadata": {},
   "outputs": [
    {
     "data": {
      "image/png": "[encoded data removed]",
      "text/plain": [
       "<Figure size 1000x600 with 1 Axes>"
      ]
     },
     "metadata": {},
     "output_type": "display_data"
    }
   ],
   "source": [
    "# Visualization\n",
    "plt.figure(figsize=(10, 6))\n",
    "sns.scatterplot(x=y_test, y=y_pred)\n",
    "plt.plot([y_test.min(), y_test.max()], [y_test.min(), y_test.max()], color='red', lw=2)\n",
    "plt.xlabel('Actual Revenue')\n",
    "plt.ylabel('Predicted Revenue')\n",
    "plt.title('Actual vs Predicted Revenue')\n",
    "plt.show()"
   ]
  },
  {
   "cell_type": "code",
   "execution_count": null,
   "id": "9a82ce5b",
   "metadata": {},
   "outputs": [],
   "source": []
  }
 ],
 "metadata": {
  "kernelspec": {
   "display_name": "Python 3 (ipykernel)",
   "language": "python",
   "name": "python3"
  },
  "language_info": {
   "codemirror_mode": {
    "name": "ipython",
    "version": 3
   },
   "file_extension": ".py",
   "mimetype": "text/x-python",
   "name": "python",
   "nbconvert_exporter": "python",
   "pygments_lexer": "ipython3",
   "version": "3.11.5"
  }
 },
 "nbformat": 4,
 "nbformat_minor": 5
}
